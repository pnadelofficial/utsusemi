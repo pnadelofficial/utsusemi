{
 "cells": [
  {
   "cell_type": "code",
   "execution_count": 1,
   "metadata": {},
   "outputs": [],
   "source": [
    "import requests\n",
    "from bs4 import BeautifulSoup\n",
    "import pandas as pd\n",
    "\n",
    "base_url = 'https://ja.wikisource.org/wiki/%E6%BA%90%E6%B0%8F%E7%89%A9%E8%AA%9E_(%E6%B8%8B%E8%B0%B7%E6%A0%84%E4%B8%80%E6%A0%A1%E8%A8%82)'"
   ]
  },
  {
   "cell_type": "code",
   "execution_count": 2,
   "metadata": {},
   "outputs": [],
   "source": [
    "base_soup = BeautifulSoup(requests.get(base_url).text)\n",
    "ul = base_soup.find_all('ul')[1]\n",
    "\n",
    "chapter_dict = {}\n",
    "for li in ul.find_all('li'):\n",
    "    chapter_dict[li.text] = f'https://ja.wikisource.org/{li.a[\"href\"]}'\n",
    "\n",
    "\n",
    "tog = pd.DataFrame.from_dict(chapter_dict, orient='index').reset_index().rename(columns={'index':'chapter',0:'link'})"
   ]
  },
  {
   "cell_type": "code",
   "execution_count": 3,
   "metadata": {},
   "outputs": [],
   "source": [
    "def get_text(link):\n",
    "    text = ''\n",
    "    soup = BeautifulSoup(requests.get(link).text)\n",
    "    for p in soup.find_all('p')[3:]:\n",
    "        text += p.text.strip()\n",
    "    return text"
   ]
  },
  {
   "cell_type": "code",
   "execution_count": 4,
   "metadata": {},
   "outputs": [
    {
     "name": "stderr",
     "output_type": "stream",
     "text": [
      "100%|██████████| 54/54 [00:15<00:00,  3.49it/s]\n"
     ]
    }
   ],
   "source": [
    "from tqdm import tqdm\n",
    "tqdm.pandas()\n",
    "\n",
    "tog['text'] = tog.link.progress_apply(get_text)"
   ]
  },
  {
   "cell_type": "code",
   "execution_count": 18,
   "metadata": {},
   "outputs": [
    {
     "data": {
      "text/html": [
       "<div>\n",
       "<style scoped>\n",
       "    .dataframe tbody tr th:only-of-type {\n",
       "        vertical-align: middle;\n",
       "    }\n",
       "\n",
       "    .dataframe tbody tr th {\n",
       "        vertical-align: top;\n",
       "    }\n",
       "\n",
       "    .dataframe thead th {\n",
       "        text-align: right;\n",
       "    }\n",
       "</style>\n",
       "<table border=\"1\" class=\"dataframe\">\n",
       "  <thead>\n",
       "    <tr style=\"text-align: right;\">\n",
       "      <th></th>\n",
       "      <th>chapter</th>\n",
       "      <th>sents</th>\n",
       "    </tr>\n",
       "  </thead>\n",
       "  <tbody>\n",
       "    <tr>\n",
       "      <th>0</th>\n",
       "      <td>桐壺</td>\n",
       "      <td>いづれの御時にか、女御、更衣あまたさぶらひたまひけるなかに、いとやむごとなき際にはあらぬが、...</td>\n",
       "    </tr>\n",
       "    <tr>\n",
       "      <th>1</th>\n",
       "      <td>桐壺</td>\n",
       "      <td>はじめより我はと思ひ上がりたまへる御方がた、めざましきものにおとしめ嫉みたまふ。</td>\n",
       "    </tr>\n",
       "    <tr>\n",
       "      <th>2</th>\n",
       "      <td>桐壺</td>\n",
       "      <td>同じほど、それより下臈の更衣たちは、ましてやすからず。</td>\n",
       "    </tr>\n",
       "    <tr>\n",
       "      <th>3</th>\n",
       "      <td>桐壺</td>\n",
       "      <td>朝夕の宮仕へにつけても、人の心をのみ動かし、恨みを負ふ積もりにやありけむ、いと篤しくなりゆき...</td>\n",
       "    </tr>\n",
       "    <tr>\n",
       "      <th>4</th>\n",
       "      <td>桐壺</td>\n",
       "      <td>上達部、上人なども、あいなく目を側めつつ、「いとまばゆき人の御おぼえなり。唐土にも、かかる事...</td>\n",
       "    </tr>\n",
       "    <tr>\n",
       "      <th>...</th>\n",
       "      <td>...</td>\n",
       "      <td>...</td>\n",
       "    </tr>\n",
       "    <tr>\n",
       "      <th>11055</th>\n",
       "      <td>夢浮橋</td>\n",
       "      <td>「いかが聞こえむ」など責められて、「心地のかき乱るやうにしはべるほど、ためらひて、今聞こえむ...</td>\n",
       "    </tr>\n",
       "    <tr>\n",
       "      <th>11056</th>\n",
       "      <td>夢浮橋</td>\n",
       "      <td>主人ぞ、この君に物語すこし聞こえて、「もののけにやおはすらむ。例のさまに見えたまふ折なく、悩...</td>\n",
       "    </tr>\n",
       "    <tr>\n",
       "      <th>11057</th>\n",
       "      <td>夢浮橋</td>\n",
       "      <td>所につけてをかしき饗応などしたれど、幼き心地は、そこはかとなくあわてたる心地して、「わざと奉...</td>\n",
       "    </tr>\n",
       "    <tr>\n",
       "      <th>11058</th>\n",
       "      <td>夢浮橋</td>\n",
       "      <td>人知れずゆかしき御ありさまをも、え見ずなりぬるを、おぼつかなく口惜しくて、心ゆかずながら参りぬ。</td>\n",
       "    </tr>\n",
       "    <tr>\n",
       "      <th>11059</th>\n",
       "      <td>夢浮橋</td>\n",
       "      <td>いつしかと待ちおはするに、かくたどたどしくて帰り来たれば、すさまじく、「なかなかなり」と、思...</td>\n",
       "    </tr>\n",
       "  </tbody>\n",
       "</table>\n",
       "<p>11060 rows × 2 columns</p>\n",
       "</div>"
      ],
      "text/plain": [
       "      chapter                                              sents\n",
       "0          桐壺  いづれの御時にか、女御、更衣あまたさぶらひたまひけるなかに、いとやむごとなき際にはあらぬが、...\n",
       "1          桐壺           はじめより我はと思ひ上がりたまへる御方がた、めざましきものにおとしめ嫉みたまふ。\n",
       "2          桐壺                        同じほど、それより下臈の更衣たちは、ましてやすからず。\n",
       "3          桐壺  朝夕の宮仕へにつけても、人の心をのみ動かし、恨みを負ふ積もりにやありけむ、いと篤しくなりゆき...\n",
       "4          桐壺  上達部、上人なども、あいなく目を側めつつ、「いとまばゆき人の御おぼえなり。唐土にも、かかる事...\n",
       "...       ...                                                ...\n",
       "11055     夢浮橋  「いかが聞こえむ」など責められて、「心地のかき乱るやうにしはべるほど、ためらひて、今聞こえむ...\n",
       "11056     夢浮橋  主人ぞ、この君に物語すこし聞こえて、「もののけにやおはすらむ。例のさまに見えたまふ折なく、悩...\n",
       "11057     夢浮橋  所につけてをかしき饗応などしたれど、幼き心地は、そこはかとなくあわてたる心地して、「わざと奉...\n",
       "11058     夢浮橋   人知れずゆかしき御ありさまをも、え見ずなりぬるを、おぼつかなく口惜しくて、心ゆかずながら参りぬ。\n",
       "11059     夢浮橋  いつしかと待ちおはするに、かくたどたどしくて帰り来たれば、すさまじく、「なかなかなり」と、思...\n",
       "\n",
       "[11060 rows x 2 columns]"
      ]
     },
     "execution_count": 18,
     "metadata": {},
     "output_type": "execute_result"
    }
   ],
   "source": [
    "from konoha import SentenceTokenizer\n",
    "tokenizer = SentenceTokenizer()\n",
    "\n",
    "tog['sents'] = tog['text'].apply(tokenizer.tokenize)\n",
    "tog_sents = tog[['chapter','sents']]\n",
    "tog_sents = tog_sents.explode('sents').reset_index(drop=True)\n",
    "tog_sents"
   ]
  },
  {
   "cell_type": "code",
   "execution_count": 8,
   "metadata": {},
   "outputs": [],
   "source": [
    "import spacy\n",
    "nlp = spacy.load('ja_core_news_sm')"
   ]
  },
  {
   "cell_type": "code",
   "execution_count": 9,
   "metadata": {},
   "outputs": [],
   "source": [
    "from spacy.tokens import DocBin\n",
    "\n",
    "def spacyify(nlp, df,col_name,f_name='spacy_model_output'):\n",
    "    texts = df[col_name].to_list()\n",
    "    doc_bin = DocBin()\n",
    "    for doc in tqdm(nlp.pipe(texts), total=len(texts)):\n",
    "        doc_bin.add(doc)\n",
    "    bytes_data = doc_bin.to_bytes()\n",
    "\n",
    "    f = open(f'serialized_data/{f_name}','wb')\n",
    "    f.write(bytes_data)\n",
    "    f.close()"
   ]
  },
  {
   "cell_type": "code",
   "execution_count": 19,
   "metadata": {},
   "outputs": [
    {
     "name": "stderr",
     "output_type": "stream",
     "text": [
      "100%|██████████| 11060/11060 [01:01<00:00, 181.11it/s]\n"
     ]
    }
   ],
   "source": [
    "spacyify(nlp, tog_sents, 'sents')"
   ]
  },
  {
   "cell_type": "code",
   "execution_count": 20,
   "metadata": {},
   "outputs": [],
   "source": [
    "tog_sents.to_csv('tog_sents.csv')"
   ]
  }
 ],
 "metadata": {
  "kernelspec": {
   "display_name": "Python 3.10.8 ('webscrape_env')",
   "language": "python",
   "name": "python3"
  },
  "language_info": {
   "codemirror_mode": {
    "name": "ipython",
    "version": 3
   },
   "file_extension": ".py",
   "mimetype": "text/x-python",
   "name": "python",
   "nbconvert_exporter": "python",
   "pygments_lexer": "ipython3",
   "version": "3.10.8"
  },
  "orig_nbformat": 4,
  "vscode": {
   "interpreter": {
    "hash": "9fab2b31d7f94569bb304ed7220415dbab9e94896d45f4079aae060fbbe4f8bf"
   }
  }
 },
 "nbformat": 4,
 "nbformat_minor": 2
}
